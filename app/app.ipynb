{
 "cells": [
  {
   "cell_type": "code",
   "execution_count": 1,
   "metadata": {},
   "outputs": [],
   "source": [
    "# app.py\n",
    "from flask import Flask, render_template, request\n",
    "from kafka import KafkaConsumer\n",
    "import json\n",
    "import pandas as pd\n",
    "from sklearn.feature_extraction.text import TfidfVectorizer\n",
    "from sklearn.metrics.pairwise import linear_kernel\n",
    "\n",
    "app = Flask(__name__)\n",
    "\n",
    "consumer = KafkaConsumer('netflix-data', bootstrap_servers=['localhost:9092'],\n",
    "                         value_deserializer=lambda x: json.loads(x.decode('utf-8')))\n",
    "\n",
    "# Function to train a simple recommendation model\n",
    "def train_recommendation_model(data):\n",
    "    tfidf_vectorizer = TfidfVectorizer(stop_words='english')\n",
    "    tfidf_matrix = tfidf_vectorizer.fit_transform(data['description'].fillna(''))\n",
    "\n",
    "    cosine_sim = linear_kernel(tfidf_matrix, tfidf_matrix)\n",
    "\n",
    "    return cosine_sim\n",
    "\n",
    "df = pd.read_csv(r\"F:/BDAT SEM 1/Data Systems Architecture/Final Project/Netflix/data/netflix_titles.csv\")\n",
    "recommendation_model = train_recommendation_model(df)\n",
    "\n",
    "@app.route('/')\n",
    "def index():\n",
    "    messages = []\n",
    "    filter_director = request.args.get('directorFilter')\n",
    "    filter_cast = request.args.get('castFilter')\n",
    "\n",
    "    for message in consumer:\n",
    "        messages.append(message.value)\n",
    "        if len(messages) >= 10:\n",
    "            break\n",
    "\n",
    "    recommendations = extract_recommendations(messages, filter_director, filter_cast)\n",
    "\n",
    "    return render_template('index.html', messages=messages, recommendations=recommendations,\n",
    "                           filter_director=filter_director, filter_cast=filter_cast)\n",
    "\n",
    "def extract_recommendations(messages, filter_director=None, filter_cast=None):\n",
    "    recommendations = []\n",
    "\n",
    "    for message in messages:\n",
    "        if (not filter_director or message.get(\"director\") == filter_director) and \\\n",
    "           (not filter_cast or message.get(\"cast\") == filter_cast):\n",
    "            message['recommendations'] = [df['title'][i] for i in recommendation_model[df.index].argsort()[-6:-1][::-1]]\n",
    "            recommendations.append(message)\n",
    "\n",
    "    return recommendations"
   ]
  },
  {
   "cell_type": "code",
   "execution_count": 2,
   "metadata": {},
   "outputs": [
    {
     "name": "stdout",
     "output_type": "stream",
     "text": [
      " * Serving Flask app '__main__'\n",
      " * Debug mode: off\n"
     ]
    },
    {
     "name": "stderr",
     "output_type": "stream",
     "text": [
      "WARNING: This is a development server. Do not use it in a production deployment. Use a production WSGI server instead.\n",
      " * Running on http://127.0.0.1:5000\n",
      "Press CTRL+C to quit\n",
      "127.0.0.1 - - [11/Dec/2023 15:21:28] \"GET / HTTP/1.1\" 200 -\n",
      "127.0.0.1 - - [11/Dec/2023 15:21:28] \"GET /static/styles/style.css HTTP/1.1\" 304 -\n",
      "127.0.0.1 - - [11/Dec/2023 15:21:28] \"GET /favicon.ico HTTP/1.1\" 404 -\n",
      "127.0.0.1 - - [11/Dec/2023 15:21:55] \"GET /?directorFilter=B.+T+Thomas&castFilter=None HTTP/1.1\" 200 -\n",
      "127.0.0.1 - - [11/Dec/2023 15:21:55] \"GET /static/styles/style.css HTTP/1.1\" 304 -\n",
      "127.0.0.1 - - [11/Dec/2023 15:23:13] \"GET /?directorFilter=B.+T+Thomas&castFilter=None HTTP/1.1\" 200 -\n",
      "127.0.0.1 - - [11/Dec/2023 15:23:13] \"GET /static/styles/style.css HTTP/1.1\" 304 -\n",
      "127.0.0.1 - - [11/Dec/2023 15:23:28] \"GET /?directorFilter=Thomas&castFilter=None HTTP/1.1\" 200 -\n",
      "127.0.0.1 - - [11/Dec/2023 15:23:28] \"GET /static/styles/style.css HTTP/1.1\" 304 -\n",
      "127.0.0.1 - - [11/Dec/2023 15:23:29] \"GET /?directorFilter=Thomas&castFilter=None HTTP/1.1\" 200 -\n",
      "127.0.0.1 - - [11/Dec/2023 15:23:29] \"GET /static/styles/style.css HTTP/1.1\" 304 -\n"
     ]
    }
   ],
   "source": [
    "if __name__ == '__main__':\n",
    "    try:\n",
    "        app.run(debug=False)\n",
    "    except Exception as e:\n",
    "        print(\"An error occurred:\", str(e))"
   ]
  }
 ],
 "metadata": {
  "kernelspec": {
   "display_name": "Python 3",
   "language": "python",
   "name": "python3"
  },
  "language_info": {
   "codemirror_mode": {
    "name": "ipython",
    "version": 3
   },
   "file_extension": ".py",
   "mimetype": "text/x-python",
   "name": "python",
   "nbconvert_exporter": "python",
   "pygments_lexer": "ipython3",
   "version": "3.11.1"
  }
 },
 "nbformat": 4,
 "nbformat_minor": 2
}
